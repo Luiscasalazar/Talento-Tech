{
  "nbformat": 4,
  "nbformat_minor": 0,
  "metadata": {
    "colab": {
      "provenance": []
    },
    "language_info": {
      "name": "python"
    },
    "kernelspec": {
      "name": "python3",
      "display_name": "Python 3"
    }
  },
  "cells": [
    {
      "cell_type": "markdown",
      "source": [
        "#Exploring the *Titanic* dataset with `seaborn`"
      ],
      "metadata": {
        "id": "MsEYalI2dYrw"
      }
    },
    {
      "cell_type": "markdown",
      "source": [
        "<div style=\"width:100%; text-align:center\">\n",
        "<img src=http://blogs.westword.com/showandtell/titanic.jpg width=500px>\n",
        "</div>"
      ],
      "metadata": {
        "id": "JJY5xfBXdYry"
      }
    },
    {
      "cell_type": "markdown",
      "source": [
        "Kaggle has a nice [dataset](https://www.kaggle.com/c/titanic-gettingStarted) with information about passengers on the *Titanic*. It's meant as an introduction to predictive models -- here, predicting who survived the sinking. Let's explore it using [seaborn](http://stanford.edu/~mwaskom/software/seaborn/). This notebook mostly demonstrates features in development for version 0.3. Please [get in touch](https://github.com/mwaskom/seaborn/issues/new) if you have ideas for how they could be improved."
      ],
      "metadata": {
        "id": "IeqY886vdYrz"
      }
    },
    {
      "cell_type": "code",
      "source": [
        "import numpy as np\n",
        "import pandas as pd\n",
        "import seaborn as sns\n",
        "sns.set(style=\"whitegrid\")"
      ],
      "outputs": [],
      "metadata": {
        "id": "K1Q63k22dYr0"
      },
      "execution_count": null
    },
    {
      "cell_type": "markdown",
      "source": [
        "First we load in the data and take a look"
      ],
      "metadata": {
        "id": "Tomuhpk1dYr1"
      }
    },
    {
      "cell_type": "code",
      "source": [
        "url = \"https://raw.github.com/mattdelhey/kaggle-titanic/master/Data/train.csv\"\n",
        "titanic = pd.read_csv(url)\n",
        "titanic.info()"
      ],
      "outputs": [
        {
          "output_type": "stream",
          "name": "stdout",
          "text": [
            "<class 'pandas.core.frame.DataFrame'>\n",
            "RangeIndex: 891 entries, 0 to 890\n",
            "Data columns (total 11 columns):\n",
            " #   Column    Non-Null Count  Dtype  \n",
            "---  ------    --------------  -----  \n",
            " 0   survived  891 non-null    int64  \n",
            " 1   pclass    891 non-null    int64  \n",
            " 2   name      891 non-null    object \n",
            " 3   sex       891 non-null    object \n",
            " 4   age       714 non-null    float64\n",
            " 5   sibsp     891 non-null    int64  \n",
            " 6   parch     891 non-null    int64  \n",
            " 7   ticket    891 non-null    object \n",
            " 8   fare      891 non-null    float64\n",
            " 9   cabin     204 non-null    object \n",
            " 10  embarked  889 non-null    object \n",
            "dtypes: float64(2), int64(4), object(5)\n",
            "memory usage: 76.7+ KB\n"
          ]
        }
      ],
      "metadata": {
        "id": "rNvshKe1dYr1",
        "outputId": "bfc90f82-32fe-42ba-e8dc-39102b770765",
        "colab": {
          "base_uri": "https://localhost:8080/"
        }
      },
      "execution_count": null
    },
    {
      "cell_type": "code",
      "source": [
        "titanic.head()"
      ],
      "outputs": [
        {
          "output_type": "execute_result",
          "data": {
            "text/plain": [
              "   survived  pclass                                               name  \\\n",
              "0         0       3                            Braund, Mr. Owen Harris   \n",
              "1         1       1  Cumings, Mrs. John Bradley (Florence Briggs Th...   \n",
              "2         1       3                             Heikkinen, Miss. Laina   \n",
              "3         1       1       Futrelle, Mrs. Jacques Heath (Lily May Peel)   \n",
              "4         0       3                           Allen, Mr. William Henry   \n",
              "\n",
              "      sex   age  sibsp  parch            ticket     fare cabin embarked  \n",
              "0    male  22.0      1      0         A/5 21171   7.2500   NaN        S  \n",
              "1  female  38.0      1      0          PC 17599  71.2833   C85        C  \n",
              "2  female  26.0      0      0  STON/O2. 3101282   7.9250   NaN        S  \n",
              "3  female  35.0      1      0            113803  53.1000  C123        S  \n",
              "4    male  35.0      0      0            373450   8.0500   NaN        S  "
            ],
            "text/html": [
              "\n",
              "  <div id=\"df-5be9c9ac-7f88-43a2-b181-7df2da722814\" class=\"colab-df-container\">\n",
              "    <div>\n",
              "<style scoped>\n",
              "    .dataframe tbody tr th:only-of-type {\n",
              "        vertical-align: middle;\n",
              "    }\n",
              "\n",
              "    .dataframe tbody tr th {\n",
              "        vertical-align: top;\n",
              "    }\n",
              "\n",
              "    .dataframe thead th {\n",
              "        text-align: right;\n",
              "    }\n",
              "</style>\n",
              "<table border=\"1\" class=\"dataframe\">\n",
              "  <thead>\n",
              "    <tr style=\"text-align: right;\">\n",
              "      <th></th>\n",
              "      <th>survived</th>\n",
              "      <th>pclass</th>\n",
              "      <th>name</th>\n",
              "      <th>sex</th>\n",
              "      <th>age</th>\n",
              "      <th>sibsp</th>\n",
              "      <th>parch</th>\n",
              "      <th>ticket</th>\n",
              "      <th>fare</th>\n",
              "      <th>cabin</th>\n",
              "      <th>embarked</th>\n",
              "    </tr>\n",
              "  </thead>\n",
              "  <tbody>\n",
              "    <tr>\n",
              "      <th>0</th>\n",
              "      <td>0</td>\n",
              "      <td>3</td>\n",
              "      <td>Braund, Mr. Owen Harris</td>\n",
              "      <td>male</td>\n",
              "      <td>22.0</td>\n",
              "      <td>1</td>\n",
              "      <td>0</td>\n",
              "      <td>A/5 21171</td>\n",
              "      <td>7.2500</td>\n",
              "      <td>NaN</td>\n",
              "      <td>S</td>\n",
              "    </tr>\n",
              "    <tr>\n",
              "      <th>1</th>\n",
              "      <td>1</td>\n",
              "      <td>1</td>\n",
              "      <td>Cumings, Mrs. John Bradley (Florence Briggs Th...</td>\n",
              "      <td>female</td>\n",
              "      <td>38.0</td>\n",
              "      <td>1</td>\n",
              "      <td>0</td>\n",
              "      <td>PC 17599</td>\n",
              "      <td>71.2833</td>\n",
              "      <td>C85</td>\n",
              "      <td>C</td>\n",
              "    </tr>\n",
              "    <tr>\n",
              "      <th>2</th>\n",
              "      <td>1</td>\n",
              "      <td>3</td>\n",
              "      <td>Heikkinen, Miss. Laina</td>\n",
              "      <td>female</td>\n",
              "      <td>26.0</td>\n",
              "      <td>0</td>\n",
              "      <td>0</td>\n",
              "      <td>STON/O2. 3101282</td>\n",
              "      <td>7.9250</td>\n",
              "      <td>NaN</td>\n",
              "      <td>S</td>\n",
              "    </tr>\n",
              "    <tr>\n",
              "      <th>3</th>\n",
              "      <td>1</td>\n",
              "      <td>1</td>\n",
              "      <td>Futrelle, Mrs. Jacques Heath (Lily May Peel)</td>\n",
              "      <td>female</td>\n",
              "      <td>35.0</td>\n",
              "      <td>1</td>\n",
              "      <td>0</td>\n",
              "      <td>113803</td>\n",
              "      <td>53.1000</td>\n",
              "      <td>C123</td>\n",
              "      <td>S</td>\n",
              "    </tr>\n",
              "    <tr>\n",
              "      <th>4</th>\n",
              "      <td>0</td>\n",
              "      <td>3</td>\n",
              "      <td>Allen, Mr. William Henry</td>\n",
              "      <td>male</td>\n",
              "      <td>35.0</td>\n",
              "      <td>0</td>\n",
              "      <td>0</td>\n",
              "      <td>373450</td>\n",
              "      <td>8.0500</td>\n",
              "      <td>NaN</td>\n",
              "      <td>S</td>\n",
              "    </tr>\n",
              "  </tbody>\n",
              "</table>\n",
              "</div>\n",
              "    <div class=\"colab-df-buttons\">\n",
              "\n",
              "  <div class=\"colab-df-container\">\n",
              "    <button class=\"colab-df-convert\" onclick=\"convertToInteractive('df-5be9c9ac-7f88-43a2-b181-7df2da722814')\"\n",
              "            title=\"Convert this dataframe to an interactive table.\"\n",
              "            style=\"display:none;\">\n",
              "\n",
              "  <svg xmlns=\"http://www.w3.org/2000/svg\" height=\"24px\" viewBox=\"0 -960 960 960\">\n",
              "    <path d=\"M120-120v-720h720v720H120Zm60-500h600v-160H180v160Zm220 220h160v-160H400v160Zm0 220h160v-160H400v160ZM180-400h160v-160H180v160Zm440 0h160v-160H620v160ZM180-180h160v-160H180v160Zm440 0h160v-160H620v160Z\"/>\n",
              "  </svg>\n",
              "    </button>\n",
              "\n",
              "  <style>\n",
              "    .colab-df-container {\n",
              "      display:flex;\n",
              "      gap: 12px;\n",
              "    }\n",
              "\n",
              "    .colab-df-convert {\n",
              "      background-color: #E8F0FE;\n",
              "      border: none;\n",
              "      border-radius: 50%;\n",
              "      cursor: pointer;\n",
              "      display: none;\n",
              "      fill: #1967D2;\n",
              "      height: 32px;\n",
              "      padding: 0 0 0 0;\n",
              "      width: 32px;\n",
              "    }\n",
              "\n",
              "    .colab-df-convert:hover {\n",
              "      background-color: #E2EBFA;\n",
              "      box-shadow: 0px 1px 2px rgba(60, 64, 67, 0.3), 0px 1px 3px 1px rgba(60, 64, 67, 0.15);\n",
              "      fill: #174EA6;\n",
              "    }\n",
              "\n",
              "    .colab-df-buttons div {\n",
              "      margin-bottom: 4px;\n",
              "    }\n",
              "\n",
              "    [theme=dark] .colab-df-convert {\n",
              "      background-color: #3B4455;\n",
              "      fill: #D2E3FC;\n",
              "    }\n",
              "\n",
              "    [theme=dark] .colab-df-convert:hover {\n",
              "      background-color: #434B5C;\n",
              "      box-shadow: 0px 1px 3px 1px rgba(0, 0, 0, 0.15);\n",
              "      filter: drop-shadow(0px 1px 2px rgba(0, 0, 0, 0.3));\n",
              "      fill: #FFFFFF;\n",
              "    }\n",
              "  </style>\n",
              "\n",
              "    <script>\n",
              "      const buttonEl =\n",
              "        document.querySelector('#df-5be9c9ac-7f88-43a2-b181-7df2da722814 button.colab-df-convert');\n",
              "      buttonEl.style.display =\n",
              "        google.colab.kernel.accessAllowed ? 'block' : 'none';\n",
              "\n",
              "      async function convertToInteractive(key) {\n",
              "        const element = document.querySelector('#df-5be9c9ac-7f88-43a2-b181-7df2da722814');\n",
              "        const dataTable =\n",
              "          await google.colab.kernel.invokeFunction('convertToInteractive',\n",
              "                                                    [key], {});\n",
              "        if (!dataTable) return;\n",
              "\n",
              "        const docLinkHtml = 'Like what you see? Visit the ' +\n",
              "          '<a target=\"_blank\" href=https://colab.research.google.com/notebooks/data_table.ipynb>data table notebook</a>'\n",
              "          + ' to learn more about interactive tables.';\n",
              "        element.innerHTML = '';\n",
              "        dataTable['output_type'] = 'display_data';\n",
              "        await google.colab.output.renderOutput(dataTable, element);\n",
              "        const docLink = document.createElement('div');\n",
              "        docLink.innerHTML = docLinkHtml;\n",
              "        element.appendChild(docLink);\n",
              "      }\n",
              "    </script>\n",
              "  </div>\n",
              "\n",
              "\n",
              "<div id=\"df-70e80354-94df-4100-a6df-cb945a397b77\">\n",
              "  <button class=\"colab-df-quickchart\" onclick=\"quickchart('df-70e80354-94df-4100-a6df-cb945a397b77')\"\n",
              "            title=\"Suggest charts\"\n",
              "            style=\"display:none;\">\n",
              "\n",
              "<svg xmlns=\"http://www.w3.org/2000/svg\" height=\"24px\"viewBox=\"0 0 24 24\"\n",
              "     width=\"24px\">\n",
              "    <g>\n",
              "        <path d=\"M19 3H5c-1.1 0-2 .9-2 2v14c0 1.1.9 2 2 2h14c1.1 0 2-.9 2-2V5c0-1.1-.9-2-2-2zM9 17H7v-7h2v7zm4 0h-2V7h2v10zm4 0h-2v-4h2v4z\"/>\n",
              "    </g>\n",
              "</svg>\n",
              "  </button>\n",
              "\n",
              "<style>\n",
              "  .colab-df-quickchart {\n",
              "      --bg-color: #E8F0FE;\n",
              "      --fill-color: #1967D2;\n",
              "      --hover-bg-color: #E2EBFA;\n",
              "      --hover-fill-color: #174EA6;\n",
              "      --disabled-fill-color: #AAA;\n",
              "      --disabled-bg-color: #DDD;\n",
              "  }\n",
              "\n",
              "  [theme=dark] .colab-df-quickchart {\n",
              "      --bg-color: #3B4455;\n",
              "      --fill-color: #D2E3FC;\n",
              "      --hover-bg-color: #434B5C;\n",
              "      --hover-fill-color: #FFFFFF;\n",
              "      --disabled-bg-color: #3B4455;\n",
              "      --disabled-fill-color: #666;\n",
              "  }\n",
              "\n",
              "  .colab-df-quickchart {\n",
              "    background-color: var(--bg-color);\n",
              "    border: none;\n",
              "    border-radius: 50%;\n",
              "    cursor: pointer;\n",
              "    display: none;\n",
              "    fill: var(--fill-color);\n",
              "    height: 32px;\n",
              "    padding: 0;\n",
              "    width: 32px;\n",
              "  }\n",
              "\n",
              "  .colab-df-quickchart:hover {\n",
              "    background-color: var(--hover-bg-color);\n",
              "    box-shadow: 0 1px 2px rgba(60, 64, 67, 0.3), 0 1px 3px 1px rgba(60, 64, 67, 0.15);\n",
              "    fill: var(--button-hover-fill-color);\n",
              "  }\n",
              "\n",
              "  .colab-df-quickchart-complete:disabled,\n",
              "  .colab-df-quickchart-complete:disabled:hover {\n",
              "    background-color: var(--disabled-bg-color);\n",
              "    fill: var(--disabled-fill-color);\n",
              "    box-shadow: none;\n",
              "  }\n",
              "\n",
              "  .colab-df-spinner {\n",
              "    border: 2px solid var(--fill-color);\n",
              "    border-color: transparent;\n",
              "    border-bottom-color: var(--fill-color);\n",
              "    animation:\n",
              "      spin 1s steps(1) infinite;\n",
              "  }\n",
              "\n",
              "  @keyframes spin {\n",
              "    0% {\n",
              "      border-color: transparent;\n",
              "      border-bottom-color: var(--fill-color);\n",
              "      border-left-color: var(--fill-color);\n",
              "    }\n",
              "    20% {\n",
              "      border-color: transparent;\n",
              "      border-left-color: var(--fill-color);\n",
              "      border-top-color: var(--fill-color);\n",
              "    }\n",
              "    30% {\n",
              "      border-color: transparent;\n",
              "      border-left-color: var(--fill-color);\n",
              "      border-top-color: var(--fill-color);\n",
              "      border-right-color: var(--fill-color);\n",
              "    }\n",
              "    40% {\n",
              "      border-color: transparent;\n",
              "      border-right-color: var(--fill-color);\n",
              "      border-top-color: var(--fill-color);\n",
              "    }\n",
              "    60% {\n",
              "      border-color: transparent;\n",
              "      border-right-color: var(--fill-color);\n",
              "    }\n",
              "    80% {\n",
              "      border-color: transparent;\n",
              "      border-right-color: var(--fill-color);\n",
              "      border-bottom-color: var(--fill-color);\n",
              "    }\n",
              "    90% {\n",
              "      border-color: transparent;\n",
              "      border-bottom-color: var(--fill-color);\n",
              "    }\n",
              "  }\n",
              "</style>\n",
              "\n",
              "  <script>\n",
              "    async function quickchart(key) {\n",
              "      const quickchartButtonEl =\n",
              "        document.querySelector('#' + key + ' button');\n",
              "      quickchartButtonEl.disabled = true;  // To prevent multiple clicks.\n",
              "      quickchartButtonEl.classList.add('colab-df-spinner');\n",
              "      try {\n",
              "        const charts = await google.colab.kernel.invokeFunction(\n",
              "            'suggestCharts', [key], {});\n",
              "      } catch (error) {\n",
              "        console.error('Error during call to suggestCharts:', error);\n",
              "      }\n",
              "      quickchartButtonEl.classList.remove('colab-df-spinner');\n",
              "      quickchartButtonEl.classList.add('colab-df-quickchart-complete');\n",
              "    }\n",
              "    (() => {\n",
              "      let quickchartButtonEl =\n",
              "        document.querySelector('#df-70e80354-94df-4100-a6df-cb945a397b77 button');\n",
              "      quickchartButtonEl.style.display =\n",
              "        google.colab.kernel.accessAllowed ? 'block' : 'none';\n",
              "    })();\n",
              "  </script>\n",
              "</div>\n",
              "\n",
              "    </div>\n",
              "  </div>\n"
            ],
            "application/vnd.google.colaboratory.intrinsic+json": {
              "type": "dataframe",
              "variable_name": "titanic",
              "summary": "{\n  \"name\": \"titanic\",\n  \"rows\": 891,\n  \"fields\": [\n    {\n      \"column\": \"survived\",\n      \"properties\": {\n        \"dtype\": \"number\",\n        \"std\": 0,\n        \"min\": 0,\n        \"max\": 1,\n        \"num_unique_values\": 2,\n        \"samples\": [\n          1,\n          0\n        ],\n        \"semantic_type\": \"\",\n        \"description\": \"\"\n      }\n    },\n    {\n      \"column\": \"pclass\",\n      \"properties\": {\n        \"dtype\": \"number\",\n        \"std\": 0,\n        \"min\": 1,\n        \"max\": 3,\n        \"num_unique_values\": 3,\n        \"samples\": [\n          3,\n          1\n        ],\n        \"semantic_type\": \"\",\n        \"description\": \"\"\n      }\n    },\n    {\n      \"column\": \"name\",\n      \"properties\": {\n        \"dtype\": \"string\",\n        \"num_unique_values\": 891,\n        \"samples\": [\n          \"Moubarek, Master. Halim Gonios (\\\"William George\\\")\",\n          \"Kvillner, Mr. Johan Henrik Johannesson\"\n        ],\n        \"semantic_type\": \"\",\n        \"description\": \"\"\n      }\n    },\n    {\n      \"column\": \"sex\",\n      \"properties\": {\n        \"dtype\": \"category\",\n        \"num_unique_values\": 2,\n        \"samples\": [\n          \"female\",\n          \"male\"\n        ],\n        \"semantic_type\": \"\",\n        \"description\": \"\"\n      }\n    },\n    {\n      \"column\": \"age\",\n      \"properties\": {\n        \"dtype\": \"number\",\n        \"std\": 14.526497332334042,\n        \"min\": 0.42,\n        \"max\": 80.0,\n        \"num_unique_values\": 88,\n        \"samples\": [\n          0.75,\n          22.0\n        ],\n        \"semantic_type\": \"\",\n        \"description\": \"\"\n      }\n    },\n    {\n      \"column\": \"sibsp\",\n      \"properties\": {\n        \"dtype\": \"number\",\n        \"std\": 1,\n        \"min\": 0,\n        \"max\": 8,\n        \"num_unique_values\": 7,\n        \"samples\": [\n          1,\n          0\n        ],\n        \"semantic_type\": \"\",\n        \"description\": \"\"\n      }\n    },\n    {\n      \"column\": \"parch\",\n      \"properties\": {\n        \"dtype\": \"number\",\n        \"std\": 0,\n        \"min\": 0,\n        \"max\": 6,\n        \"num_unique_values\": 7,\n        \"samples\": [\n          0,\n          1\n        ],\n        \"semantic_type\": \"\",\n        \"description\": \"\"\n      }\n    },\n    {\n      \"column\": \"ticket\",\n      \"properties\": {\n        \"dtype\": \"string\",\n        \"num_unique_values\": 681,\n        \"samples\": [\n          \"11774\",\n          \"248740\"\n        ],\n        \"semantic_type\": \"\",\n        \"description\": \"\"\n      }\n    },\n    {\n      \"column\": \"fare\",\n      \"properties\": {\n        \"dtype\": \"number\",\n        \"std\": 49.6934285971809,\n        \"min\": 0.0,\n        \"max\": 512.3292,\n        \"num_unique_values\": 248,\n        \"samples\": [\n          11.2417,\n          51.8625\n        ],\n        \"semantic_type\": \"\",\n        \"description\": \"\"\n      }\n    },\n    {\n      \"column\": \"cabin\",\n      \"properties\": {\n        \"dtype\": \"category\",\n        \"num_unique_values\": 147,\n        \"samples\": [\n          \"D45\",\n          \"B49\"\n        ],\n        \"semantic_type\": \"\",\n        \"description\": \"\"\n      }\n    },\n    {\n      \"column\": \"embarked\",\n      \"properties\": {\n        \"dtype\": \"category\",\n        \"num_unique_values\": 3,\n        \"samples\": [\n          \"S\",\n          \"C\"\n        ],\n        \"semantic_type\": \"\",\n        \"description\": \"\"\n      }\n    }\n  ]\n}"
            }
          },
          "metadata": {},
          "execution_count": 5
        }
      ],
      "metadata": {
        "id": "rz2NnhBzdYr2",
        "outputId": "5cfcbb21-91a7-4f70-acae-a59749302727",
        "colab": {
          "base_uri": "https://localhost:8080/",
          "height": 328
        }
      },
      "execution_count": null
    },
    {
      "cell_type": "markdown",
      "source": [
        "Let's do  little bit of processing to make some different variables that might be more interesting to plot. Since this notebook is focused on visualization, we're going to do this without much comment."
      ],
      "metadata": {
        "id": "SZQywQppdYr2"
      }
    },
    {
      "cell_type": "code",
      "source": [
        "def woman_child_or_man(passenger):\n",
        "    age, sex = passenger\n",
        "    if age < 16:\n",
        "        return \"child\"\n",
        "    else:\n",
        "        return dict(male=\"man\", female=\"woman\")[sex]"
      ],
      "outputs": [],
      "metadata": {
        "id": "qUiClxDRdYr2"
      },
      "execution_count": null
    },
    {
      "cell_type": "code",
      "source": [
        "titanic[\"class\"] = titanic.pclass.map({1: \"First\", 2: \"Second\", 3: \"Third\"})\n",
        "titanic[\"who\"] = titanic[[\"age\", \"sex\"]].apply(woman_child_or_man, axis=1)\n",
        "titanic[\"adult_male\"] = titanic.who == \"man\"\n",
        "titanic[\"deck\"] = titanic.cabin.str[0].map(lambda s: np.nan if s == \"T\" else s)\n",
        "titanic[\"embark_town\"] = titanic.embarked.map({\"C\": \"Cherbourg\", \"Q\": \"Queenstown\", \"S\": \"Southampton\"})\n",
        "titanic[\"alive\"] = titanic.survived.map({0: \"no\", 1: \"yes\"})\n",
        "titanic[\"alone\"] = ~(titanic.parch + titanic.sibsp).astype(bool)\n",
        "titanic = titanic.drop([\"name\", \"ticket\", \"cabin\"], axis=1)"
      ],
      "outputs": [],
      "metadata": {
        "id": "hpNfS18ydYr2"
      },
      "execution_count": null
    },
    {
      "cell_type": "code",
      "source": [
        "titanic.head()"
      ],
      "outputs": [
        {
          "output_type": "execute_result",
          "data": {
            "text/plain": [
              "   survived  pclass     sex   age  sibsp  parch     fare embarked  class  \\\n",
              "0         0       3    male  22.0      1      0   7.2500        S  Third   \n",
              "1         1       1  female  38.0      1      0  71.2833        C  First   \n",
              "2         1       3  female  26.0      0      0   7.9250        S  Third   \n",
              "3         1       1  female  35.0      1      0  53.1000        S  First   \n",
              "4         0       3    male  35.0      0      0   8.0500        S  Third   \n",
              "\n",
              "     who  adult_male deck  embark_town alive  alone  \n",
              "0    man        True  NaN  Southampton    no  False  \n",
              "1  woman       False    C    Cherbourg   yes  False  \n",
              "2  woman       False  NaN  Southampton   yes   True  \n",
              "3  woman       False    C  Southampton   yes  False  \n",
              "4    man        True  NaN  Southampton    no   True  "
            ],
            "text/html": [
              "\n",
              "  <div id=\"df-b3932c65-2ab5-49f7-8e74-e0f4934a1d99\" class=\"colab-df-container\">\n",
              "    <div>\n",
              "<style scoped>\n",
              "    .dataframe tbody tr th:only-of-type {\n",
              "        vertical-align: middle;\n",
              "    }\n",
              "\n",
              "    .dataframe tbody tr th {\n",
              "        vertical-align: top;\n",
              "    }\n",
              "\n",
              "    .dataframe thead th {\n",
              "        text-align: right;\n",
              "    }\n",
              "</style>\n",
              "<table border=\"1\" class=\"dataframe\">\n",
              "  <thead>\n",
              "    <tr style=\"text-align: right;\">\n",
              "      <th></th>\n",
              "      <th>survived</th>\n",
              "      <th>pclass</th>\n",
              "      <th>sex</th>\n",
              "      <th>age</th>\n",
              "      <th>sibsp</th>\n",
              "      <th>parch</th>\n",
              "      <th>fare</th>\n",
              "      <th>embarked</th>\n",
              "      <th>class</th>\n",
              "      <th>who</th>\n",
              "      <th>adult_male</th>\n",
              "      <th>deck</th>\n",
              "      <th>embark_town</th>\n",
              "      <th>alive</th>\n",
              "      <th>alone</th>\n",
              "    </tr>\n",
              "  </thead>\n",
              "  <tbody>\n",
              "    <tr>\n",
              "      <th>0</th>\n",
              "      <td>0</td>\n",
              "      <td>3</td>\n",
              "      <td>male</td>\n",
              "      <td>22.0</td>\n",
              "      <td>1</td>\n",
              "      <td>0</td>\n",
              "      <td>7.2500</td>\n",
              "      <td>S</td>\n",
              "      <td>Third</td>\n",
              "      <td>man</td>\n",
              "      <td>True</td>\n",
              "      <td>NaN</td>\n",
              "      <td>Southampton</td>\n",
              "      <td>no</td>\n",
              "      <td>False</td>\n",
              "    </tr>\n",
              "    <tr>\n",
              "      <th>1</th>\n",
              "      <td>1</td>\n",
              "      <td>1</td>\n",
              "      <td>female</td>\n",
              "      <td>38.0</td>\n",
              "      <td>1</td>\n",
              "      <td>0</td>\n",
              "      <td>71.2833</td>\n",
              "      <td>C</td>\n",
              "      <td>First</td>\n",
              "      <td>woman</td>\n",
              "      <td>False</td>\n",
              "      <td>C</td>\n",
              "      <td>Cherbourg</td>\n",
              "      <td>yes</td>\n",
              "      <td>False</td>\n",
              "    </tr>\n",
              "    <tr>\n",
              "      <th>2</th>\n",
              "      <td>1</td>\n",
              "      <td>3</td>\n",
              "      <td>female</td>\n",
              "      <td>26.0</td>\n",
              "      <td>0</td>\n",
              "      <td>0</td>\n",
              "      <td>7.9250</td>\n",
              "      <td>S</td>\n",
              "      <td>Third</td>\n",
              "      <td>woman</td>\n",
              "      <td>False</td>\n",
              "      <td>NaN</td>\n",
              "      <td>Southampton</td>\n",
              "      <td>yes</td>\n",
              "      <td>True</td>\n",
              "    </tr>\n",
              "    <tr>\n",
              "      <th>3</th>\n",
              "      <td>1</td>\n",
              "      <td>1</td>\n",
              "      <td>female</td>\n",
              "      <td>35.0</td>\n",
              "      <td>1</td>\n",
              "      <td>0</td>\n",
              "      <td>53.1000</td>\n",
              "      <td>S</td>\n",
              "      <td>First</td>\n",
              "      <td>woman</td>\n",
              "      <td>False</td>\n",
              "      <td>C</td>\n",
              "      <td>Southampton</td>\n",
              "      <td>yes</td>\n",
              "      <td>False</td>\n",
              "    </tr>\n",
              "    <tr>\n",
              "      <th>4</th>\n",
              "      <td>0</td>\n",
              "      <td>3</td>\n",
              "      <td>male</td>\n",
              "      <td>35.0</td>\n",
              "      <td>0</td>\n",
              "      <td>0</td>\n",
              "      <td>8.0500</td>\n",
              "      <td>S</td>\n",
              "      <td>Third</td>\n",
              "      <td>man</td>\n",
              "      <td>True</td>\n",
              "      <td>NaN</td>\n",
              "      <td>Southampton</td>\n",
              "      <td>no</td>\n",
              "      <td>True</td>\n",
              "    </tr>\n",
              "  </tbody>\n",
              "</table>\n",
              "</div>\n",
              "    <div class=\"colab-df-buttons\">\n",
              "\n",
              "  <div class=\"colab-df-container\">\n",
              "    <button class=\"colab-df-convert\" onclick=\"convertToInteractive('df-b3932c65-2ab5-49f7-8e74-e0f4934a1d99')\"\n",
              "            title=\"Convert this dataframe to an interactive table.\"\n",
              "            style=\"display:none;\">\n",
              "\n",
              "  <svg xmlns=\"http://www.w3.org/2000/svg\" height=\"24px\" viewBox=\"0 -960 960 960\">\n",
              "    <path d=\"M120-120v-720h720v720H120Zm60-500h600v-160H180v160Zm220 220h160v-160H400v160Zm0 220h160v-160H400v160ZM180-400h160v-160H180v160Zm440 0h160v-160H620v160ZM180-180h160v-160H180v160Zm440 0h160v-160H620v160Z\"/>\n",
              "  </svg>\n",
              "    </button>\n",
              "\n",
              "  <style>\n",
              "    .colab-df-container {\n",
              "      display:flex;\n",
              "      gap: 12px;\n",
              "    }\n",
              "\n",
              "    .colab-df-convert {\n",
              "      background-color: #E8F0FE;\n",
              "      border: none;\n",
              "      border-radius: 50%;\n",
              "      cursor: pointer;\n",
              "      display: none;\n",
              "      fill: #1967D2;\n",
              "      height: 32px;\n",
              "      padding: 0 0 0 0;\n",
              "      width: 32px;\n",
              "    }\n",
              "\n",
              "    .colab-df-convert:hover {\n",
              "      background-color: #E2EBFA;\n",
              "      box-shadow: 0px 1px 2px rgba(60, 64, 67, 0.3), 0px 1px 3px 1px rgba(60, 64, 67, 0.15);\n",
              "      fill: #174EA6;\n",
              "    }\n",
              "\n",
              "    .colab-df-buttons div {\n",
              "      margin-bottom: 4px;\n",
              "    }\n",
              "\n",
              "    [theme=dark] .colab-df-convert {\n",
              "      background-color: #3B4455;\n",
              "      fill: #D2E3FC;\n",
              "    }\n",
              "\n",
              "    [theme=dark] .colab-df-convert:hover {\n",
              "      background-color: #434B5C;\n",
              "      box-shadow: 0px 1px 3px 1px rgba(0, 0, 0, 0.15);\n",
              "      filter: drop-shadow(0px 1px 2px rgba(0, 0, 0, 0.3));\n",
              "      fill: #FFFFFF;\n",
              "    }\n",
              "  </style>\n",
              "\n",
              "    <script>\n",
              "      const buttonEl =\n",
              "        document.querySelector('#df-b3932c65-2ab5-49f7-8e74-e0f4934a1d99 button.colab-df-convert');\n",
              "      buttonEl.style.display =\n",
              "        google.colab.kernel.accessAllowed ? 'block' : 'none';\n",
              "\n",
              "      async function convertToInteractive(key) {\n",
              "        const element = document.querySelector('#df-b3932c65-2ab5-49f7-8e74-e0f4934a1d99');\n",
              "        const dataTable =\n",
              "          await google.colab.kernel.invokeFunction('convertToInteractive',\n",
              "                                                    [key], {});\n",
              "        if (!dataTable) return;\n",
              "\n",
              "        const docLinkHtml = 'Like what you see? Visit the ' +\n",
              "          '<a target=\"_blank\" href=https://colab.research.google.com/notebooks/data_table.ipynb>data table notebook</a>'\n",
              "          + ' to learn more about interactive tables.';\n",
              "        element.innerHTML = '';\n",
              "        dataTable['output_type'] = 'display_data';\n",
              "        await google.colab.output.renderOutput(dataTable, element);\n",
              "        const docLink = document.createElement('div');\n",
              "        docLink.innerHTML = docLinkHtml;\n",
              "        element.appendChild(docLink);\n",
              "      }\n",
              "    </script>\n",
              "  </div>\n",
              "\n",
              "\n",
              "<div id=\"df-f3a6432b-449d-4d2b-b598-bd0669e72dfa\">\n",
              "  <button class=\"colab-df-quickchart\" onclick=\"quickchart('df-f3a6432b-449d-4d2b-b598-bd0669e72dfa')\"\n",
              "            title=\"Suggest charts\"\n",
              "            style=\"display:none;\">\n",
              "\n",
              "<svg xmlns=\"http://www.w3.org/2000/svg\" height=\"24px\"viewBox=\"0 0 24 24\"\n",
              "     width=\"24px\">\n",
              "    <g>\n",
              "        <path d=\"M19 3H5c-1.1 0-2 .9-2 2v14c0 1.1.9 2 2 2h14c1.1 0 2-.9 2-2V5c0-1.1-.9-2-2-2zM9 17H7v-7h2v7zm4 0h-2V7h2v10zm4 0h-2v-4h2v4z\"/>\n",
              "    </g>\n",
              "</svg>\n",
              "  </button>\n",
              "\n",
              "<style>\n",
              "  .colab-df-quickchart {\n",
              "      --bg-color: #E8F0FE;\n",
              "      --fill-color: #1967D2;\n",
              "      --hover-bg-color: #E2EBFA;\n",
              "      --hover-fill-color: #174EA6;\n",
              "      --disabled-fill-color: #AAA;\n",
              "      --disabled-bg-color: #DDD;\n",
              "  }\n",
              "\n",
              "  [theme=dark] .colab-df-quickchart {\n",
              "      --bg-color: #3B4455;\n",
              "      --fill-color: #D2E3FC;\n",
              "      --hover-bg-color: #434B5C;\n",
              "      --hover-fill-color: #FFFFFF;\n",
              "      --disabled-bg-color: #3B4455;\n",
              "      --disabled-fill-color: #666;\n",
              "  }\n",
              "\n",
              "  .colab-df-quickchart {\n",
              "    background-color: var(--bg-color);\n",
              "    border: none;\n",
              "    border-radius: 50%;\n",
              "    cursor: pointer;\n",
              "    display: none;\n",
              "    fill: var(--fill-color);\n",
              "    height: 32px;\n",
              "    padding: 0;\n",
              "    width: 32px;\n",
              "  }\n",
              "\n",
              "  .colab-df-quickchart:hover {\n",
              "    background-color: var(--hover-bg-color);\n",
              "    box-shadow: 0 1px 2px rgba(60, 64, 67, 0.3), 0 1px 3px 1px rgba(60, 64, 67, 0.15);\n",
              "    fill: var(--button-hover-fill-color);\n",
              "  }\n",
              "\n",
              "  .colab-df-quickchart-complete:disabled,\n",
              "  .colab-df-quickchart-complete:disabled:hover {\n",
              "    background-color: var(--disabled-bg-color);\n",
              "    fill: var(--disabled-fill-color);\n",
              "    box-shadow: none;\n",
              "  }\n",
              "\n",
              "  .colab-df-spinner {\n",
              "    border: 2px solid var(--fill-color);\n",
              "    border-color: transparent;\n",
              "    border-bottom-color: var(--fill-color);\n",
              "    animation:\n",
              "      spin 1s steps(1) infinite;\n",
              "  }\n",
              "\n",
              "  @keyframes spin {\n",
              "    0% {\n",
              "      border-color: transparent;\n",
              "      border-bottom-color: var(--fill-color);\n",
              "      border-left-color: var(--fill-color);\n",
              "    }\n",
              "    20% {\n",
              "      border-color: transparent;\n",
              "      border-left-color: var(--fill-color);\n",
              "      border-top-color: var(--fill-color);\n",
              "    }\n",
              "    30% {\n",
              "      border-color: transparent;\n",
              "      border-left-color: var(--fill-color);\n",
              "      border-top-color: var(--fill-color);\n",
              "      border-right-color: var(--fill-color);\n",
              "    }\n",
              "    40% {\n",
              "      border-color: transparent;\n",
              "      border-right-color: var(--fill-color);\n",
              "      border-top-color: var(--fill-color);\n",
              "    }\n",
              "    60% {\n",
              "      border-color: transparent;\n",
              "      border-right-color: var(--fill-color);\n",
              "    }\n",
              "    80% {\n",
              "      border-color: transparent;\n",
              "      border-right-color: var(--fill-color);\n",
              "      border-bottom-color: var(--fill-color);\n",
              "    }\n",
              "    90% {\n",
              "      border-color: transparent;\n",
              "      border-bottom-color: var(--fill-color);\n",
              "    }\n",
              "  }\n",
              "</style>\n",
              "\n",
              "  <script>\n",
              "    async function quickchart(key) {\n",
              "      const quickchartButtonEl =\n",
              "        document.querySelector('#' + key + ' button');\n",
              "      quickchartButtonEl.disabled = true;  // To prevent multiple clicks.\n",
              "      quickchartButtonEl.classList.add('colab-df-spinner');\n",
              "      try {\n",
              "        const charts = await google.colab.kernel.invokeFunction(\n",
              "            'suggestCharts', [key], {});\n",
              "      } catch (error) {\n",
              "        console.error('Error during call to suggestCharts:', error);\n",
              "      }\n",
              "      quickchartButtonEl.classList.remove('colab-df-spinner');\n",
              "      quickchartButtonEl.classList.add('colab-df-quickchart-complete');\n",
              "    }\n",
              "    (() => {\n",
              "      let quickchartButtonEl =\n",
              "        document.querySelector('#df-f3a6432b-449d-4d2b-b598-bd0669e72dfa button');\n",
              "      quickchartButtonEl.style.display =\n",
              "        google.colab.kernel.accessAllowed ? 'block' : 'none';\n",
              "    })();\n",
              "  </script>\n",
              "</div>\n",
              "\n",
              "    </div>\n",
              "  </div>\n"
            ],
            "application/vnd.google.colaboratory.intrinsic+json": {
              "type": "dataframe",
              "variable_name": "titanic",
              "summary": "{\n  \"name\": \"titanic\",\n  \"rows\": 891,\n  \"fields\": [\n    {\n      \"column\": \"survived\",\n      \"properties\": {\n        \"dtype\": \"number\",\n        \"std\": 0,\n        \"min\": 0,\n        \"max\": 1,\n        \"num_unique_values\": 2,\n        \"samples\": [\n          1,\n          0\n        ],\n        \"semantic_type\": \"\",\n        \"description\": \"\"\n      }\n    },\n    {\n      \"column\": \"pclass\",\n      \"properties\": {\n        \"dtype\": \"number\",\n        \"std\": 0,\n        \"min\": 1,\n        \"max\": 3,\n        \"num_unique_values\": 3,\n        \"samples\": [\n          3,\n          1\n        ],\n        \"semantic_type\": \"\",\n        \"description\": \"\"\n      }\n    },\n    {\n      \"column\": \"sex\",\n      \"properties\": {\n        \"dtype\": \"category\",\n        \"num_unique_values\": 2,\n        \"samples\": [\n          \"female\",\n          \"male\"\n        ],\n        \"semantic_type\": \"\",\n        \"description\": \"\"\n      }\n    },\n    {\n      \"column\": \"age\",\n      \"properties\": {\n        \"dtype\": \"number\",\n        \"std\": 14.526497332334042,\n        \"min\": 0.42,\n        \"max\": 80.0,\n        \"num_unique_values\": 88,\n        \"samples\": [\n          0.75,\n          22.0\n        ],\n        \"semantic_type\": \"\",\n        \"description\": \"\"\n      }\n    },\n    {\n      \"column\": \"sibsp\",\n      \"properties\": {\n        \"dtype\": \"number\",\n        \"std\": 1,\n        \"min\": 0,\n        \"max\": 8,\n        \"num_unique_values\": 7,\n        \"samples\": [\n          1,\n          0\n        ],\n        \"semantic_type\": \"\",\n        \"description\": \"\"\n      }\n    },\n    {\n      \"column\": \"parch\",\n      \"properties\": {\n        \"dtype\": \"number\",\n        \"std\": 0,\n        \"min\": 0,\n        \"max\": 6,\n        \"num_unique_values\": 7,\n        \"samples\": [\n          0,\n          1\n        ],\n        \"semantic_type\": \"\",\n        \"description\": \"\"\n      }\n    },\n    {\n      \"column\": \"fare\",\n      \"properties\": {\n        \"dtype\": \"number\",\n        \"std\": 49.6934285971809,\n        \"min\": 0.0,\n        \"max\": 512.3292,\n        \"num_unique_values\": 248,\n        \"samples\": [\n          11.2417,\n          51.8625\n        ],\n        \"semantic_type\": \"\",\n        \"description\": \"\"\n      }\n    },\n    {\n      \"column\": \"embarked\",\n      \"properties\": {\n        \"dtype\": \"category\",\n        \"num_unique_values\": 3,\n        \"samples\": [\n          \"S\",\n          \"C\"\n        ],\n        \"semantic_type\": \"\",\n        \"description\": \"\"\n      }\n    },\n    {\n      \"column\": \"class\",\n      \"properties\": {\n        \"dtype\": \"category\",\n        \"num_unique_values\": 3,\n        \"samples\": [\n          \"Third\",\n          \"First\"\n        ],\n        \"semantic_type\": \"\",\n        \"description\": \"\"\n      }\n    },\n    {\n      \"column\": \"who\",\n      \"properties\": {\n        \"dtype\": \"category\",\n        \"num_unique_values\": 3,\n        \"samples\": [\n          \"man\",\n          \"woman\"\n        ],\n        \"semantic_type\": \"\",\n        \"description\": \"\"\n      }\n    },\n    {\n      \"column\": \"adult_male\",\n      \"properties\": {\n        \"dtype\": \"boolean\",\n        \"num_unique_values\": 2,\n        \"samples\": [\n          false,\n          true\n        ],\n        \"semantic_type\": \"\",\n        \"description\": \"\"\n      }\n    },\n    {\n      \"column\": \"deck\",\n      \"properties\": {\n        \"dtype\": \"category\",\n        \"num_unique_values\": 7,\n        \"samples\": [\n          \"C\",\n          \"E\"\n        ],\n        \"semantic_type\": \"\",\n        \"description\": \"\"\n      }\n    },\n    {\n      \"column\": \"embark_town\",\n      \"properties\": {\n        \"dtype\": \"category\",\n        \"num_unique_values\": 3,\n        \"samples\": [\n          \"Southampton\",\n          \"Cherbourg\"\n        ],\n        \"semantic_type\": \"\",\n        \"description\": \"\"\n      }\n    },\n    {\n      \"column\": \"alive\",\n      \"properties\": {\n        \"dtype\": \"category\",\n        \"num_unique_values\": 2,\n        \"samples\": [\n          \"yes\",\n          \"no\"\n        ],\n        \"semantic_type\": \"\",\n        \"description\": \"\"\n      }\n    },\n    {\n      \"column\": \"alone\",\n      \"properties\": {\n        \"dtype\": \"boolean\",\n        \"num_unique_values\": 2,\n        \"samples\": [\n          true,\n          false\n        ],\n        \"semantic_type\": \"\",\n        \"description\": \"\"\n      }\n    }\n  ]\n}"
            }
          },
          "metadata": {},
          "execution_count": 8
        }
      ],
      "metadata": {
        "id": "YYPEdyqVdYr3",
        "outputId": "3f9cf286-7025-46fc-b1b0-efce1689965f",
        "colab": {
          "base_uri": "https://localhost:8080/",
          "height": 226
        }
      },
      "execution_count": null
    },
    {
      "cell_type": "markdown",
      "source": [
        "Finally set up a palette dictionary for some of the plots."
      ],
      "metadata": {
        "id": "bGvEfKFPdYr3"
      }
    },
    {
      "cell_type": "code",
      "source": [
        "pal = dict(man=\"#4682B4\", woman=\"#CD5C5C\", child=\"#2E8B57\", male=\"#6495ED\", female=\"#F08080\")"
      ],
      "outputs": [],
      "metadata": {
        "id": "5nU8x4sudYr3"
      },
      "execution_count": null
    },
    {
      "cell_type": "markdown",
      "source": [
        "##Who were the *Titanic* passengers?"
      ],
      "metadata": {
        "id": "DaDFBI1qdYr3"
      }
    },
    {
      "cell_type": "markdown",
      "source": [
        "Before getting to the main question (who survived), let's take a look at the dataset to get a sense for how the observations are distributed into the different levels of our factors of interest."
      ],
      "metadata": {
        "id": "k6FYEqhDdYr3"
      }
    },
    {
      "cell_type": "markdown",
      "source": [
        "###How many men, women, and children are in our sample?"
      ],
      "metadata": {
        "id": "0XMIT0szdYr4"
      }
    },
    {
      "cell_type": "markdown",
      "source": [
        "First let's count the number of males and females, ignoring age."
      ],
      "metadata": {
        "id": "eiuzqC-qdYr4"
      }
    },
    {
      "cell_type": "code",
      "source": [
        "import seaborn as sns\n",
        "sns.countplot(\"sex\", data=titanic, palette=pal);"
      ],
      "outputs": [
        {
          "output_type": "error",
          "ename": "TypeError",
          "evalue": "countplot() got multiple values for argument 'data'",
          "traceback": [
            "\u001b[0;31m---------------------------------------------------------------------------\u001b[0m",
            "\u001b[0;31mTypeError\u001b[0m                                 Traceback (most recent call last)",
            "\u001b[0;32m<ipython-input-23-a7b03067befa>\u001b[0m in \u001b[0;36m<cell line: 2>\u001b[0;34m()\u001b[0m\n\u001b[1;32m      1\u001b[0m \u001b[0;32mimport\u001b[0m \u001b[0mseaborn\u001b[0m \u001b[0;32mas\u001b[0m \u001b[0msns\u001b[0m\u001b[0;34m\u001b[0m\u001b[0;34m\u001b[0m\u001b[0m\n\u001b[0;32m----> 2\u001b[0;31m \u001b[0msns\u001b[0m\u001b[0;34m.\u001b[0m\u001b[0mcountplot\u001b[0m\u001b[0;34m(\u001b[0m\u001b[0;34m\"sex\"\u001b[0m\u001b[0;34m,\u001b[0m \u001b[0mdata\u001b[0m\u001b[0;34m=\u001b[0m\u001b[0mtitanic\u001b[0m\u001b[0;34m,\u001b[0m \u001b[0mpalette\u001b[0m\u001b[0;34m=\u001b[0m\u001b[0mpal\u001b[0m\u001b[0;34m)\u001b[0m\u001b[0;34m;\u001b[0m\u001b[0;34m\u001b[0m\u001b[0;34m\u001b[0m\u001b[0m\n\u001b[0m",
            "\u001b[0;31mTypeError\u001b[0m: countplot() got multiple values for argument 'data'"
          ]
        }
      ],
      "metadata": {
        "id": "ku2nxtqIdYr4",
        "outputId": "805da898-af4b-4daf-88b5-ff9d7b31c320",
        "colab": {
          "base_uri": "https://localhost:8080/",
          "height": 159
        }
      },
      "execution_count": null
    },
    {
      "cell_type": "markdown",
      "source": [
        "Then we can look at how this is distributed into the three classes."
      ],
      "metadata": {
        "id": "AUAzDulidYr4"
      }
    },
    {
      "cell_type": "code",
      "source": [
        "sns.factorplot(\"class\", data=titanic, hue=\"sex\", palette=pal);"
      ],
      "outputs": [
        {
          "output_type": "error",
          "ename": "AttributeError",
          "evalue": "module 'seaborn' has no attribute 'factorplot'",
          "traceback": [
            "\u001b[0;31m---------------------------------------------------------------------------\u001b[0m",
            "\u001b[0;31mAttributeError\u001b[0m                            Traceback (most recent call last)",
            "\u001b[0;32m<ipython-input-17-a2bd0f27cefd>\u001b[0m in \u001b[0;36m<cell line: 1>\u001b[0;34m()\u001b[0m\n\u001b[0;32m----> 1\u001b[0;31m \u001b[0msns\u001b[0m\u001b[0;34m.\u001b[0m\u001b[0mfactorplot\u001b[0m\u001b[0;34m(\u001b[0m\u001b[0;34m\"class\"\u001b[0m\u001b[0;34m,\u001b[0m \u001b[0mdata\u001b[0m\u001b[0;34m=\u001b[0m\u001b[0mtitanic\u001b[0m\u001b[0;34m,\u001b[0m \u001b[0mhue\u001b[0m\u001b[0;34m=\u001b[0m\u001b[0;34m\"sex\"\u001b[0m\u001b[0;34m,\u001b[0m \u001b[0mpalette\u001b[0m\u001b[0;34m=\u001b[0m\u001b[0mpal\u001b[0m\u001b[0;34m)\u001b[0m\u001b[0;34m;\u001b[0m\u001b[0;34m\u001b[0m\u001b[0;34m\u001b[0m\u001b[0m\n\u001b[0m",
            "\u001b[0;31mAttributeError\u001b[0m: module 'seaborn' has no attribute 'factorplot'"
          ]
        }
      ],
      "metadata": {
        "id": "4WhhYLpKdYr4",
        "outputId": "8727c41a-3169-4752-aacf-5ea54e5afc12",
        "colab": {
          "base_uri": "https://localhost:8080/",
          "height": 141
        }
      },
      "execution_count": null
    },
    {
      "cell_type": "markdown",
      "source": [
        "We also have a separate classification that splits off children (recall, this is going to be relevant because of the \"women and children first\" policy followed during the evacuation)."
      ],
      "metadata": {
        "id": "owqcKqULdYr4"
      }
    },
    {
      "cell_type": "code",
      "source": [
        "sns.factorplot(\"who\", data=titanic, palette=pal);"
      ],
      "outputs": [
        {
          "output_type": "error",
          "ename": "AttributeError",
          "evalue": "module 'seaborn' has no attribute 'factorplot'",
          "traceback": [
            "\u001b[0;31m---------------------------------------------------------------------------\u001b[0m",
            "\u001b[0;31mAttributeError\u001b[0m                            Traceback (most recent call last)",
            "\u001b[0;32m<ipython-input-18-9f65b3b2b938>\u001b[0m in \u001b[0;36m<cell line: 1>\u001b[0;34m()\u001b[0m\n\u001b[0;32m----> 1\u001b[0;31m \u001b[0msns\u001b[0m\u001b[0;34m.\u001b[0m\u001b[0mfactorplot\u001b[0m\u001b[0;34m(\u001b[0m\u001b[0;34m\"who\"\u001b[0m\u001b[0;34m,\u001b[0m \u001b[0mdata\u001b[0m\u001b[0;34m=\u001b[0m\u001b[0mtitanic\u001b[0m\u001b[0;34m,\u001b[0m \u001b[0mpalette\u001b[0m\u001b[0;34m=\u001b[0m\u001b[0mpal\u001b[0m\u001b[0;34m)\u001b[0m\u001b[0;34m;\u001b[0m\u001b[0;34m\u001b[0m\u001b[0;34m\u001b[0m\u001b[0m\n\u001b[0m",
            "\u001b[0;31mAttributeError\u001b[0m: module 'seaborn' has no attribute 'factorplot'"
          ]
        }
      ],
      "metadata": {
        "id": "cjGjNm0udYr5",
        "outputId": "61c39696-bf46-4148-d356-e9b61709f8d3",
        "colab": {
          "base_uri": "https://localhost:8080/",
          "height": 141
        }
      },
      "execution_count": null
    },
    {
      "cell_type": "code",
      "source": [
        "sns.factorplot(\"class\", data=titanic, hue=\"who\", palette=pal);"
      ],
      "outputs": [
        {
          "output_type": "error",
          "ename": "AttributeError",
          "evalue": "module 'seaborn' has no attribute 'factorplot'",
          "traceback": [
            "\u001b[0;31m---------------------------------------------------------------------------\u001b[0m",
            "\u001b[0;31mAttributeError\u001b[0m                            Traceback (most recent call last)",
            "\u001b[0;32m<ipython-input-19-68d3fddb0588>\u001b[0m in \u001b[0;36m<cell line: 1>\u001b[0;34m()\u001b[0m\n\u001b[0;32m----> 1\u001b[0;31m \u001b[0msns\u001b[0m\u001b[0;34m.\u001b[0m\u001b[0mfactorplot\u001b[0m\u001b[0;34m(\u001b[0m\u001b[0;34m\"class\"\u001b[0m\u001b[0;34m,\u001b[0m \u001b[0mdata\u001b[0m\u001b[0;34m=\u001b[0m\u001b[0mtitanic\u001b[0m\u001b[0;34m,\u001b[0m \u001b[0mhue\u001b[0m\u001b[0;34m=\u001b[0m\u001b[0;34m\"who\"\u001b[0m\u001b[0;34m,\u001b[0m \u001b[0mpalette\u001b[0m\u001b[0;34m=\u001b[0m\u001b[0mpal\u001b[0m\u001b[0;34m)\u001b[0m\u001b[0;34m;\u001b[0m\u001b[0;34m\u001b[0m\u001b[0;34m\u001b[0m\u001b[0m\n\u001b[0m",
            "\u001b[0;31mAttributeError\u001b[0m: module 'seaborn' has no attribute 'factorplot'"
          ]
        }
      ],
      "metadata": {
        "id": "FunINZ1UdYr5",
        "outputId": "12ffc036-de09-4b2e-e4fb-091d16187137",
        "colab": {
          "base_uri": "https://localhost:8080/",
          "height": 141
        }
      },
      "execution_count": null
    },
    {
      "cell_type": "markdown",
      "source": [
        "Finally, we made a variable that indicates whether a passanger was an adult male."
      ],
      "metadata": {
        "id": "JArBvjPKdYr5"
      }
    },
    {
      "cell_type": "code",
      "source": [
        "sns.factorplot(\"adult_male\", data=titanic, palette=\"Blues\");"
      ],
      "outputs": [
        {
          "output_type": "error",
          "ename": "AttributeError",
          "evalue": "module 'seaborn' has no attribute 'factorplot'",
          "traceback": [
            "\u001b[0;31m---------------------------------------------------------------------------\u001b[0m",
            "\u001b[0;31mAttributeError\u001b[0m                            Traceback (most recent call last)",
            "\u001b[0;32m<ipython-input-41-ad8350393fda>\u001b[0m in \u001b[0;36m<cell line: 1>\u001b[0;34m()\u001b[0m\n\u001b[0;32m----> 1\u001b[0;31m \u001b[0msns\u001b[0m\u001b[0;34m.\u001b[0m\u001b[0mfactorplot\u001b[0m\u001b[0;34m(\u001b[0m\u001b[0;34m\"adult_male\"\u001b[0m\u001b[0;34m,\u001b[0m \u001b[0mdata\u001b[0m\u001b[0;34m=\u001b[0m\u001b[0mtitanic\u001b[0m\u001b[0;34m,\u001b[0m \u001b[0mpalette\u001b[0m\u001b[0;34m=\u001b[0m\u001b[0;34m\"Blues\"\u001b[0m\u001b[0;34m)\u001b[0m\u001b[0;34m;\u001b[0m\u001b[0;34m\u001b[0m\u001b[0;34m\u001b[0m\u001b[0m\n\u001b[0m",
            "\u001b[0;31mAttributeError\u001b[0m: module 'seaborn' has no attribute 'factorplot'"
          ]
        }
      ],
      "metadata": {
        "id": "OVhv8a-cdYr5",
        "outputId": "b470ce03-3e20-4083-9ce2-7f65e39c0406",
        "colab": {
          "base_uri": "https://localhost:8080/",
          "height": 141
        }
      },
      "execution_count": null
    },
    {
      "cell_type": "code",
      "source": [
        "sns.factorplot(\"class\", data=titanic, hue=\"adult_male\", palette=\"Blues\");"
      ],
      "outputs": [
        {
          "output_type": "display_data",
          "data": {},
          "metadata": {}
        }
      ],
      "metadata": {
        "id": "svVkul9zdYr6",
        "outputId": "bbb47e33-141e-4032-bcfc-1cc99b569f2d"
      },
      "execution_count": null
    },
    {
      "cell_type": "markdown",
      "source": [
        "Next let's look at the distribution of ages within the groups we defined above."
      ],
      "metadata": {
        "id": "uFyqMbM8dYr6"
      }
    },
    {
      "cell_type": "code",
      "source": [
        "fg = sns.FacetGrid(titanic, hue=\"sex\", aspect=3, palette=pal)\n",
        "fg.map(sns.kdeplot, \"age\", shade=True)\n",
        "fg.set(xlim=(0, 80));"
      ],
      "outputs": [
        {
          "output_type": "stream",
          "name": "stderr",
          "text": [
            "/usr/local/lib/python3.10/dist-packages/seaborn/axisgrid.py:854: FutureWarning: \n",
            "\n",
            "`shade` is now deprecated in favor of `fill`; setting `fill=True`.\n",
            "This will become an error in seaborn v0.14.0; please update your code.\n",
            "\n",
            "  func(*plot_args, **plot_kwargs)\n",
            "/usr/local/lib/python3.10/dist-packages/seaborn/axisgrid.py:854: FutureWarning: \n",
            "\n",
            "`shade` is now deprecated in favor of `fill`; setting `fill=True`.\n",
            "This will become an error in seaborn v0.14.0; please update your code.\n",
            "\n",
            "  func(*plot_args, **plot_kwargs)\n"
          ]
        },
        {
          "output_type": "display_data",
          "data": {
            "text/plain": [
              "<Figure size 900x300 with 1 Axes>"
            ],
            "image/png": "[encoded data removed]"
          },
          "metadata": {}
        }
      ],
      "metadata": {
        "id": "8OIEYqvodYr6",
        "outputId": "5d7c9b7a-c6d5-4be3-a305-72128ec9f564",
        "colab": {
          "base_uri": "https://localhost:8080/",
          "height": 508
        }
      },
      "execution_count": null
    },
    {
      "cell_type": "code",
      "source": [
        "fg = sns.FacetGrid(titanic, hue=\"who\", aspect=3, palette=pal)\n",
        "fg.map(sns.kdeplot, \"age\", shade=True)\n",
        "fg.set(xlim=(0, 80));"
      ],
      "outputs": [
        {
          "output_type": "display_data",
          "data": {},
          "metadata": {}
        }
      ],
      "metadata": {
        "id": "J1cV8d7RdYr6",
        "outputId": "2d1980e8-f408-433c-e773-0f41d5d9e61b"
      },
      "execution_count": null
    },
    {
      "cell_type": "markdown",
      "source": [
        "###How many first, second, and third class passengers are in our sample?"
      ],
      "metadata": {
        "id": "4vcUHR5-dYr6"
      }
    },
    {
      "cell_type": "markdown",
      "source": [
        "Although have some information about the distribution into classes from the sex plots, let's directly visualize it an then see how the classes break down by age."
      ],
      "metadata": {
        "id": "5dboTklBdYr7"
      }
    },
    {
      "cell_type": "code",
      "source": [
        "sns.factorplot(\"class\", data=titanic, palette=\"BuPu_d\");"
      ],
      "outputs": [
        {
          "output_type": "display_data",
          "data": {},
          "metadata": {}
        }
      ],
      "metadata": {
        "id": "xthQ1A3pdYr7",
        "outputId": "d3b617a9-6470-4c50-d0f7-379c4afaa954"
      },
      "execution_count": null
    },
    {
      "cell_type": "code",
      "source": [
        "fg = sns.FacetGrid(titanic, hue=\"class\", aspect=3, palette=\"BuPu_d\")\n",
        "fg.map(sns.kdeplot, \"age\", shade=True)\n",
        "fg.set(xlim=(0, 80));"
      ],
      "outputs": [
        {
          "output_type": "display_data",
          "data": {},
          "metadata": {}
        }
      ],
      "metadata": {
        "id": "s2Ji2e5bdYr7",
        "outputId": "9ad524a6-9128-4ab1-bbd4-290a44523a66"
      },
      "execution_count": null
    },
    {
      "cell_type": "markdown",
      "source": [
        "Finally let's look at the breakdown by age and sex."
      ],
      "metadata": {
        "id": "ZW4IirQSdYr7"
      }
    },
    {
      "cell_type": "code",
      "source": [
        "fg = sns.FacetGrid(titanic, col=\"sex\", row=\"class\", hue=\"sex\", size=2.5, aspect=2.5, palette=pal)\n",
        "fg.map(sns.kdeplot, \"age\", shade=True)\n",
        "fg.map(sns.rugplot, \"age\")\n",
        "sns.despine(left=True)\n",
        "fg.set(xlim=(0, 80));"
      ],
      "outputs": [
        {
          "output_type": "display_data",
          "data": {},
          "metadata": {}
        }
      ],
      "metadata": {
        "id": "DyvCHIPAdYr8",
        "outputId": "131bff74-6b7c-4a74-ea90-1b4eaee931bf"
      },
      "execution_count": null
    },
    {
      "cell_type": "markdown",
      "source": [
        "###Where were our passenger's cabins?"
      ],
      "metadata": {
        "id": "ZHopXuPmdYr8"
      }
    },
    {
      "cell_type": "markdown",
      "source": [
        "We also have information about what deck each passgener's cabin was on, which may be relevant."
      ],
      "metadata": {
        "id": "TL5Yi-iLdYr8"
      }
    },
    {
      "cell_type": "code",
      "source": [
        "sns.factorplot(\"deck\", data=titanic, palette=\"PuBu_d\");"
      ],
      "outputs": [
        {
          "output_type": "display_data",
          "data": {},
          "metadata": {}
        }
      ],
      "metadata": {
        "id": "7codaIbrdYr8",
        "outputId": "6d4283be-86fb-4cf5-d7b7-c2bad366e4b1"
      },
      "execution_count": null
    },
    {
      "cell_type": "markdown",
      "source": [
        "How did the decks break down by class for the passengers we have data about?"
      ],
      "metadata": {
        "id": "0-wOD5BldYr8"
      }
    },
    {
      "cell_type": "code",
      "source": [
        "sns.factorplot(\"deck\", hue=\"class\", data=titanic, palette=\"BuPu_d\");"
      ],
      "outputs": [
        {
          "output_type": "display_data",
          "data": {},
          "metadata": {}
        }
      ],
      "metadata": {
        "id": "HuxL60lPdYsB",
        "outputId": "8b75137e-2a81-493b-a6a8-46c61f155e8f"
      },
      "execution_count": null
    },
    {
      "cell_type": "markdown",
      "source": [
        "Note that we're missing a lot of deck data for the second and third class passengers, which will be important to keep in mind later."
      ],
      "metadata": {
        "id": "Ir-2c8q5dYsB"
      }
    },
    {
      "cell_type": "markdown",
      "source": [
        "###How much did they pay for their tickets?"
      ],
      "metadata": {
        "id": "tuH7FrBddYsB"
      }
    },
    {
      "cell_type": "markdown",
      "source": [
        "Since we have data about fares, let's see how those broke down by classes."
      ],
      "metadata": {
        "id": "DJXpHNb5dYsC"
      }
    },
    {
      "cell_type": "code",
      "source": [
        "from seaborn import linearmodels\n",
        "reload(linearmodels)\n",
        "reload(sns)\n",
        "sns.set(style=\"nogrid\")"
      ],
      "outputs": [],
      "metadata": {
        "id": "svHvr4wZdYsC"
      },
      "execution_count": null
    },
    {
      "cell_type": "code",
      "source": [
        "sns.factorplot(\"class\", \"fare\", data=titanic, palette=\"BuPu_d\");"
      ],
      "outputs": [
        {
          "output_type": "display_data",
          "data": {},
          "metadata": {}
        }
      ],
      "metadata": {
        "id": "Np6-yap8dYsC",
        "outputId": "2af78a57-1248-4dc4-eae9-99b1d85003ad"
      },
      "execution_count": null
    },
    {
      "cell_type": "code",
      "source": [
        "sns.violinplot(titanic[\"fare\"], titanic[\"class\"], color=\"BuPu_d\").set_ylim(0, 600)\n",
        "sns.despine(left=True);"
      ],
      "outputs": [
        {
          "output_type": "display_data",
          "data": {},
          "metadata": {}
        }
      ],
      "metadata": {
        "id": "_qfcN5scdYsC",
        "outputId": "d1c07b2a-1da3-4373-e339-be3c8a062bc8"
      },
      "execution_count": null
    },
    {
      "cell_type": "markdown",
      "source": [
        "There are some extreme outliers in the first class distribution; let's winsorize those to get a better sense for how much each class paid."
      ],
      "metadata": {
        "id": "pTTr_1lDdYsC"
      }
    },
    {
      "cell_type": "code",
      "source": [
        "titanic[\"fare_winsor\"] = titanic.fare.map(lambda f: min(f, 200))"
      ],
      "outputs": [],
      "metadata": {
        "id": "T3I__L6qdYsD"
      },
      "execution_count": null
    },
    {
      "cell_type": "code",
      "source": [
        "sns.violinplot(titanic[\"fare_winsor\"], titanic[\"class\"], color=\"BuPu_d\").set_ylim(0, 250)\n",
        "sns.despine(left=True);"
      ],
      "outputs": [
        {
          "output_type": "display_data",
          "data": {},
          "metadata": {}
        }
      ],
      "metadata": {
        "id": "OhsNpVX8dYsD",
        "outputId": "fcaf6d45-678b-4bc7-ae69-f3fc2b3a932a"
      },
      "execution_count": null
    },
    {
      "cell_type": "markdown",
      "source": [
        "How did the fares break down by deck? Let's look both at the mean and the distribution."
      ],
      "metadata": {
        "id": "q_oAtEs5dYsD"
      }
    },
    {
      "cell_type": "code",
      "source": [
        "sns.factorplot(\"deck\", \"fare\", data=titanic, palette=\"PuBu_d\");"
      ],
      "outputs": [
        {
          "output_type": "display_data",
          "data": {},
          "metadata": {}
        }
      ],
      "metadata": {
        "id": "geyYa4qXdYsD",
        "outputId": "4fb34011-d340-4c16-ced3-0c471bbdc244"
      },
      "execution_count": null
    },
    {
      "cell_type": "code",
      "source": [
        "sns.violinplot(titanic[\"fare_winsor\"], titanic[\"deck\"], color=\"PuBu_d\")\n",
        "sns.despine(left=True);"
      ],
      "outputs": [
        {
          "output_type": "display_data",
          "data": {},
          "metadata": {}
        }
      ],
      "metadata": {
        "id": "PzYjx5jYdYsD",
        "outputId": "2a1c39c2-0e37-466d-a61a-bdb376e28d81"
      },
      "execution_count": null
    },
    {
      "cell_type": "markdown",
      "source": [
        "It might make more sense to plot the median fare, since the distributions aren't normal."
      ],
      "metadata": {
        "id": "Oj8u53jZdYsE"
      }
    },
    {
      "cell_type": "code",
      "source": [
        "sns.factorplot(\"deck\", \"fare\", data=titanic, palette=\"PuBu_d\", estimator=np.median);"
      ],
      "outputs": [
        {
          "output_type": "display_data",
          "data": {},
          "metadata": {}
        }
      ],
      "metadata": {
        "id": "43ldbHfPdYsE",
        "outputId": "2cab3067-bd09-4b00-f823-ce27ba0350c0"
      },
      "execution_count": null
    },
    {
      "cell_type": "markdown",
      "source": [
        "We can also look at a regression of fare on age to see if older passengers paid more. We'll use robust methods here too, which will accound for the skewed distribution on fare."
      ],
      "metadata": {
        "id": "zkvkuHxRdYsE"
      }
    },
    {
      "cell_type": "code",
      "source": [
        "sns.regplot(\"age\", \"fare\", data=titanic, robust=True, ci=None, color=\"seagreen\")\n",
        "sns.despine();"
      ],
      "outputs": [
        {
          "output_type": "display_data",
          "data": {},
          "metadata": {}
        }
      ],
      "metadata": {
        "id": "S-OMcnWLdYsE",
        "outputId": "c5f61b75-132a-4f43-c1af-2ccc6b3bb5d0"
      },
      "execution_count": null
    },
    {
      "cell_type": "markdown",
      "source": [
        "###Where did the passengers come from?"
      ],
      "metadata": {
        "id": "dJPRCNTKdYsE"
      }
    },
    {
      "cell_type": "markdown",
      "source": [
        "The *Titanic* passengers embarked at one of three ports before the voyage."
      ],
      "metadata": {
        "id": "Jet12MY_dYsF"
      }
    },
    {
      "cell_type": "code",
      "source": [
        "sns.factorplot(\"class\", data=titanic, hue=\"embark_town\", palette=\"Set2\");"
      ],
      "outputs": [
        {
          "output_type": "display_data",
          "data": {},
          "metadata": {}
        }
      ],
      "metadata": {
        "id": "75HWuImOdYsF",
        "outputId": "a0784870-70fd-432d-9116-fa3426e4e73f"
      },
      "execution_count": null
    },
    {
      "cell_type": "markdown",
      "source": [
        "###Who was traveling with family members?"
      ],
      "metadata": {
        "id": "fQcHBAkkdYsF"
      }
    },
    {
      "cell_type": "markdown",
      "source": [
        "We also have some data, although it's not coded very well, about the number of parents/children and the numbe of siblings/spouses on board for each passenger."
      ],
      "metadata": {
        "id": "hsKyptusdYsF"
      }
    },
    {
      "cell_type": "code",
      "source": [
        "sns.factorplot(\"class\", data=titanic, hue=\"parch\", palette=\"BuGn\");"
      ],
      "outputs": [
        {
          "output_type": "display_data",
          "data": {},
          "metadata": {}
        }
      ],
      "metadata": {
        "id": "9fKnqdGzdYsF",
        "outputId": "48c7e5fc-8b00-4f41-819e-2f1d47eae748"
      },
      "execution_count": null
    },
    {
      "cell_type": "code",
      "source": [
        "sns.factorplot(\"class\", data=titanic, hue=\"sibsp\", palette=\"YlGn\");"
      ],
      "outputs": [
        {
          "output_type": "display_data",
          "data": {},
          "metadata": {}
        }
      ],
      "metadata": {
        "id": "34S-OtxOdYsF",
        "outputId": "4f7dd67c-2fce-422a-ffbc-fa47a5133ab6"
      },
      "execution_count": null
    },
    {
      "cell_type": "markdown",
      "source": [
        "We defined a variable that just measures whether someone was traveling alone, i.e. without family."
      ],
      "metadata": {
        "id": "Bp-rW-nsdYsG"
      }
    },
    {
      "cell_type": "code",
      "source": [
        "sns.factorplot(\"alone\", data=titanic, palette=\"Greens\");"
      ],
      "outputs": [
        {
          "output_type": "display_data",
          "data": {},
          "metadata": {}
        }
      ],
      "metadata": {
        "id": "N4CDgW2BdYsG",
        "outputId": "9b4cb32c-3d51-4c02-cfca-b45b4311f105"
      },
      "execution_count": null
    },
    {
      "cell_type": "markdown",
      "source": [
        "##What made people survive the sinking?"
      ],
      "metadata": {
        "id": "ZtNT9qwddYsG"
      }
    },
    {
      "cell_type": "markdown",
      "source": [
        "<div style=\"width:100%; text-align:center\">\n",
        "<i>Iceberg, dead ahead!</i><br><br>\n",
        "<img src=http://upload.wikimedia.org/wikipedia/en/b/bb/Titanic_breaks_in_half.jpg width=500px>\n",
        "</div>"
      ],
      "metadata": {
        "id": "5plnOTiQdYsG"
      }
    },
    {
      "cell_type": "markdown",
      "source": [
        "Now that we have a feel for the characteristics of our sample, let's get down to the main question and ask what factors seem to predict whether our passengers survived. But first, one more count plot just to see how many of our passengers perished in the sinking."
      ],
      "metadata": {
        "id": "-Ig3H4nKdYsG"
      }
    },
    {
      "cell_type": "code",
      "source": [
        "sns.factorplot(\"alive\", data=titanic, palette=\"OrRd_d\");"
      ],
      "outputs": [
        {
          "output_type": "display_data",
          "data": {},
          "metadata": {}
        }
      ],
      "metadata": {
        "id": "eoJbLg7GdYsG",
        "outputId": "79ebcaf1-d60f-40fd-ee25-30dfe4f10b05"
      },
      "execution_count": null
    },
    {
      "cell_type": "markdown",
      "source": [
        "###What classes had the survivors traveled in?"
      ],
      "metadata": {
        "id": "JJWC6WcOdYsG"
      }
    },
    {
      "cell_type": "markdown",
      "source": [
        "It's part of popular lore that the third-class (or steerage) passengers fared much more poorly than their wealthier shipmates. Is this borne out in the data?"
      ],
      "metadata": {
        "id": "mby1csIrdYsH"
      }
    },
    {
      "cell_type": "code",
      "source": [
        "sns.factorplot(\"class\", \"survived\", data=titanic).set(ylim=(0, 1))"
      ],
      "outputs": [
        {
          "output_type": "execute_result",
          "data": {},
          "metadata": {},
          "execution_count": 35
        },
        {
          "output_type": "display_data",
          "data": {},
          "metadata": {}
        }
      ],
      "metadata": {
        "id": "yXgSGMQ1dYsH",
        "outputId": "2dc59e85-0ee5-4a8c-fc7b-d97b39e9d46e"
      },
      "execution_count": null
    },
    {
      "cell_type": "markdown",
      "source": [
        "We also of course know that women were given high priority during the evacuation, and we saw above that Third class was disproportionately male. Maybe that's driving the class effect?"
      ],
      "metadata": {
        "id": "scReS-4JdYsH"
      }
    },
    {
      "cell_type": "code",
      "source": [
        "sns.factorplot(\"class\", \"survived\", data=titanic, hue=\"sex\", palette=pal).set(ylim=(0, 1));"
      ],
      "outputs": [
        {
          "output_type": "display_data",
          "data": {},
          "metadata": {}
        }
      ],
      "metadata": {
        "id": "LId3dULddYsH",
        "outputId": "8c8927ec-f5e9-4f8b-ed4b-1c2fb02a8d38"
      },
      "execution_count": null
    },
    {
      "cell_type": "markdown",
      "source": [
        "Nope, in general it was not good to be a male *or* to be in steerage."
      ],
      "metadata": {
        "id": "bVklKiwhdYsI"
      }
    },
    {
      "cell_type": "markdown",
      "source": [
        "###What effect did \"women and children first\" have?"
      ],
      "metadata": {
        "id": "5Whgg2gLdYsI"
      }
    },
    {
      "cell_type": "markdown",
      "source": [
        "Were they at least successful in evacuating the children?"
      ],
      "metadata": {
        "id": "IR18mXpVdYsI"
      }
    },
    {
      "cell_type": "code",
      "source": [
        "fg = sns.factorplot(\"class\", \"survived\", data=titanic, hue=\"who\", col=\"who\", palette=pal, aspect=.4)\n",
        "fg.set(ylim=(0, 1))\n",
        "fg.despine(left=True)"
      ],
      "outputs": [
        {
          "output_type": "execute_result",
          "data": {},
          "metadata": {},
          "execution_count": 37
        },
        {
          "output_type": "display_data",
          "data": {},
          "metadata": {}
        }
      ],
      "metadata": {
        "id": "8ExhgIZddYsI",
        "outputId": "9d4f99e6-f471-452c-947d-4b211d91304c"
      },
      "execution_count": null
    },
    {
      "cell_type": "markdown",
      "source": [
        "Pretty good for first and second class (although the precise estimates are unreliable because there weren't that many children traveling in the upper classes. It's actually the case that every second-class child survived, though).\n",
        "\n",
        "We suspect that the best way to predict survival is to look at whether a passenger was an adult male and what class he or she was in."
      ],
      "metadata": {
        "id": "hEtMcrUJdYsJ"
      }
    },
    {
      "cell_type": "code",
      "source": [
        "sns.factorplot(\"class\", \"survived\", data=titanic, hue=\"adult_male\", palette=\"Blues\").set(ylim=(0, 1))"
      ],
      "outputs": [
        {
          "output_type": "execute_result",
          "data": {},
          "metadata": {},
          "execution_count": 38
        },
        {
          "output_type": "display_data",
          "data": {},
          "metadata": {}
        }
      ],
      "metadata": {
        "id": "3ldejnyVdYsJ",
        "outputId": "815aff27-9c71-47f5-e730-c84f5160aa07"
      },
      "execution_count": null
    },
    {
      "cell_type": "markdown",
      "source": [
        "Another way to plot the same data emphasizes the different outcomes for men and other passengers even more dramatically."
      ],
      "metadata": {
        "id": "LTDDaskCdYsJ"
      }
    },
    {
      "cell_type": "code",
      "source": [
        "fg = sns.factorplot(\"adult_male\", \"survived\", data=titanic, col=\"class\", hue=\"class\",\n",
        "                    aspect=.33, palette=\"BuPu_d\")\n",
        "fg.set(ylim=(0, 1))\n",
        "fg.despine(left=True);"
      ],
      "outputs": [
        {
          "output_type": "display_data",
          "data": {},
          "metadata": {}
        }
      ],
      "metadata": {
        "id": "RXNJ8sNZdYsJ",
        "outputId": "d8894e16-c8a1-4a97-88f4-c01d243a4c0f"
      },
      "execution_count": null
    },
    {
      "cell_type": "markdown",
      "source": [
        "###Did age matter in general?"
      ],
      "metadata": {
        "id": "WlCFRSn_dYsK"
      }
    },
    {
      "cell_type": "markdown",
      "source": [
        "We can also ask whether age as a contiunous variable mattered. We'll draw logistic regression plots, first jittering the survival datapoints to get a sense of the distribution."
      ],
      "metadata": {
        "id": "RQsrVfVSdYsK"
      }
    },
    {
      "cell_type": "code",
      "source": [
        "sns.lmplot(\"age\", \"survived\", titanic, logistic=True, y_jitter=.05);"
      ],
      "outputs": [
        {
          "output_type": "display_data",
          "data": {},
          "metadata": {}
        }
      ],
      "metadata": {
        "id": "Tg2M6806dYsK",
        "outputId": "1d2f5897-48ed-4e89-8c18-4b24e01bfffd"
      },
      "execution_count": null
    },
    {
      "cell_type": "markdown",
      "source": [
        "We can also plot the same data with the survival observations grouped into discrete bins."
      ],
      "metadata": {
        "id": "dv7IwTpHdYsK"
      }
    },
    {
      "cell_type": "code",
      "source": [
        "sns.lmplot(\"age\", \"survived\", titanic, logistic=True, x_bins=4, truncate=True);"
      ],
      "outputs": [
        {
          "output_type": "display_data",
          "data": {},
          "metadata": {}
        }
      ],
      "metadata": {
        "id": "u_CthyTDdYsK",
        "outputId": "77b7970b-364c-49f0-e79b-280a864ad895"
      },
      "execution_count": null
    },
    {
      "cell_type": "markdown",
      "source": [
        "###How did age interact with sex and class?"
      ],
      "metadata": {
        "id": "GGFyWGHydYsK"
      }
    },
    {
      "cell_type": "markdown",
      "source": [
        "We know that sex is important, though, so we probably want to separate out these predictions for men and women."
      ],
      "metadata": {
        "id": "F6PBQc4HdYsL"
      }
    },
    {
      "cell_type": "code",
      "source": [
        "age_bins = [15, 30, 45, 60]\n",
        "sns.lmplot(\"age\", \"survived\", titanic, hue=\"sex\",\n",
        "           palette=pal, x_bins=age_bins, logistic=True).set(xlim=(0, 80));"
      ],
      "outputs": [
        {
          "output_type": "display_data",
          "data": {},
          "metadata": {}
        }
      ],
      "metadata": {
        "id": "JhCQ8PY7dYsL",
        "outputId": "d26b88ef-9934-486a-8594-f7b9a1691d7e"
      },
      "execution_count": null
    },
    {
      "cell_type": "markdown",
      "source": [
        "Class is imporant too, let's see whether it interacts with the age variable as well."
      ],
      "metadata": {
        "id": "ZLQApnoVdYsL"
      }
    },
    {
      "cell_type": "code",
      "source": [
        "sns.lmplot(\"age\", \"survived\", titanic, hue=\"class\",\n",
        "           palette=\"BuPu_d\", x_bins=age_bins, logistic=True).set(xlim=(0, 80));"
      ],
      "outputs": [
        {
          "output_type": "display_data",
          "data": {},
          "metadata": {}
        }
      ],
      "metadata": {
        "id": "JTroap81dYsL",
        "outputId": "794d847e-fe49-4a11-8921-ed3b18ec75a0"
      },
      "execution_count": null
    },
    {
      "cell_type": "markdown",
      "source": [
        "Because the above plot is rather busy, it might make sense to split the three classes onto separate facets."
      ],
      "metadata": {
        "id": "At_UtzSfdYsL"
      }
    },
    {
      "cell_type": "code",
      "source": [
        "sns.lmplot(\"age\", \"survived\", titanic, col=\"class\", hue=\"class\",\n",
        "           palette=\"BuPu_d\", x_bins=4, logistic=True, size=3).set(xlim=(0, 80));"
      ],
      "outputs": [
        {
          "output_type": "display_data",
          "data": {},
          "metadata": {}
        }
      ],
      "metadata": {
        "id": "AdTR-JajdYsL",
        "outputId": "32ce1d10-a23f-4b22-c6ac-cdd6cd9280d6"
      },
      "execution_count": null
    },
    {
      "cell_type": "markdown",
      "source": [
        "###Did it matter what passengers paid, or where they stayed?"
      ],
      "metadata": {
        "id": "GKPx61kodYsM"
      }
    },
    {
      "cell_type": "markdown",
      "source": [
        "We know that class matters, but we can also use the `fare` variable as a proxy for a contiuous measure of wealth."
      ],
      "metadata": {
        "id": "qr5VGom_dYsM"
      }
    },
    {
      "cell_type": "code",
      "source": [
        "sns.lmplot(\"fare_winsor\", \"survived\", titanic, x_bins=4, logistic=True, truncate=True);"
      ],
      "outputs": [
        {
          "output_type": "display_data",
          "data": {},
          "metadata": {}
        }
      ],
      "metadata": {
        "id": "8s3pY_r4dYsM",
        "outputId": "c7018e44-8d01-4e30-f01f-a31a60208c3f"
      },
      "execution_count": null
    },
    {
      "cell_type": "markdown",
      "source": [
        "Perhaps it mattered what deck each passenger's cabin was on?"
      ],
      "metadata": {
        "id": "6FdWXkRWdYsM"
      }
    },
    {
      "cell_type": "code",
      "source": [
        "sns.factorplot(\"deck\", \"survived\", data=titanic, palette=\"PuBu_d\", join=False);"
      ],
      "outputs": [
        {
          "output_type": "display_data",
          "data": {},
          "metadata": {}
        }
      ],
      "metadata": {
        "id": "Sab2nhqRdYsM",
        "outputId": "db6cc4a8-6503-4026-b379-bed47205b420"
      },
      "execution_count": null
    },
    {
      "cell_type": "code",
      "source": [
        "sns.factorplot(\"deck\", \"survived\", data=titanic, col=\"class\", size=3, palette=\"PuBu_d\", join=False);"
      ],
      "outputs": [
        {
          "output_type": "display_data",
          "data": {},
          "metadata": {}
        }
      ],
      "metadata": {
        "id": "WL_qvTrRdYsM",
        "outputId": "ce9525ba-5879-499d-91f1-a9a04c2d284e"
      },
      "execution_count": null
    },
    {
      "cell_type": "markdown",
      "source": [
        "###Did family members increase the odds of survival?"
      ],
      "metadata": {
        "id": "ujroDCp2dYsN"
      }
    },
    {
      "cell_type": "markdown",
      "source": [
        "Although the way our data on family members was coded, we don't know for sure what sort of companions these passengers had, but it's worth asking how they influenced survival."
      ],
      "metadata": {
        "id": "hvGFDlbfdYsN"
      }
    },
    {
      "cell_type": "code",
      "source": [
        "sns.lmplot(\"parch\", \"survived\", titanic, x_estimator=np.mean, logistic=True);"
      ],
      "outputs": [
        {
          "output_type": "display_data",
          "data": {},
          "metadata": {}
        }
      ],
      "metadata": {
        "id": "E-MqFZTSdYsN",
        "outputId": "1cd91931-5961-4922-bb24-08a543ecee27"
      },
      "execution_count": null
    },
    {
      "cell_type": "code",
      "source": [
        "sns.lmplot(\"parch\", \"survived\", titanic, hue=\"sex\", x_estimator=np.mean, logistic=True, palette=pal);"
      ],
      "outputs": [
        {
          "output_type": "display_data",
          "data": {},
          "metadata": {}
        }
      ],
      "metadata": {
        "id": "gWJtBvqxdYsN",
        "outputId": "aaaba73f-c14d-4a12-a6b6-c1ca64cbc6f0"
      },
      "execution_count": null
    },
    {
      "cell_type": "code",
      "source": [
        "sns.lmplot(\"sibsp\", \"survived\", titanic, x_estimator=np.mean, logistic=True);"
      ],
      "outputs": [
        {
          "output_type": "display_data",
          "data": {},
          "metadata": {}
        }
      ],
      "metadata": {
        "id": "nUyomHycdYsN",
        "outputId": "28cc2ac7-a302-495e-fb0a-a067f81e197b"
      },
      "execution_count": null
    },
    {
      "cell_type": "markdown",
      "source": [
        "We also have a more interpretable `alone` variable (although it's reasonable to assume that this is going to be confounded with age)."
      ],
      "metadata": {
        "id": "DzkDadtudYsO"
      }
    },
    {
      "cell_type": "code",
      "source": [
        "sns.factorplot(\"alone\", \"survived\", data=titanic).set(ylim=(0, 1));"
      ],
      "outputs": [
        {
          "output_type": "display_data",
          "data": {},
          "metadata": {}
        }
      ],
      "metadata": {
        "id": "StAv6QKYdYsO",
        "outputId": "f0ce52fb-ee04-46df-b276-75a22b422f1d"
      },
      "execution_count": null
    },
    {
      "cell_type": "markdown",
      "source": [
        "Did traveling alone have a greater effect depending on what class you were in?"
      ],
      "metadata": {
        "id": "lwpIE68bdYsO"
      }
    },
    {
      "cell_type": "code",
      "source": [
        "fg = sns.factorplot(\"alone\", \"survived\", data=titanic, col=\"class\", hue=\"class\",\n",
        "                    aspect=.33, palette=\"BuPu_d\")\n",
        "fg.set(ylim=(0, 1))\n",
        "fg.despine(left=True);"
      ],
      "outputs": [
        {
          "output_type": "display_data",
          "data": {},
          "metadata": {}
        }
      ],
      "metadata": {
        "id": "_xaFPX0EdYsO",
        "outputId": "d85f999f-3fec-41a9-cb21-c890e3e9ecdb"
      },
      "execution_count": null
    },
    {
      "cell_type": "markdown",
      "source": [
        "As above, a different presentation of the same data emphasizes different comparisons."
      ],
      "metadata": {
        "id": "TCxjiN2zdYsO"
      }
    },
    {
      "cell_type": "code",
      "source": [
        "sns.factorplot(\"class\", \"survived\", data=titanic, hue=\"alone\", palette=\"Greens\").set(ylim=(0, 1));"
      ],
      "outputs": [
        {
          "output_type": "display_data",
          "data": {},
          "metadata": {}
        }
      ],
      "metadata": {
        "id": "bB__8MEVdYsP",
        "outputId": "ccb0971a-a02b-4d22-a093-7ae604c2eba0"
      },
      "execution_count": null
    },
    {
      "cell_type": "markdown",
      "source": [
        "What about men and women who were traveling alone?"
      ],
      "metadata": {
        "id": "PL6tGMUsdYsP"
      }
    },
    {
      "cell_type": "code",
      "source": [
        "sns.factorplot(\"alone\", \"survived\", data=titanic, hue=\"sex\", palette=pal).set(ylim=(0, 1));"
      ],
      "outputs": [
        {
          "output_type": "display_data",
          "data": {},
          "metadata": {}
        }
      ],
      "metadata": {
        "id": "yuzvInhedYsP",
        "outputId": "c831df11-9f65-4a4c-a9d8-b6d0f472ad0b"
      },
      "execution_count": null
    },
    {
      "cell_type": "code",
      "source": [
        "fg = sns.factorplot(\"alone\", \"survived\", data=titanic, hue=\"sex\",\n",
        "                    col=\"class\", palette=pal, aspect=.33)\n",
        "fg.despine(left=True);"
      ],
      "outputs": [
        {
          "output_type": "display_data",
          "data": {},
          "metadata": {}
        }
      ],
      "metadata": {
        "id": "jbDWT86OdYsP",
        "outputId": "e912781c-2f73-4222-e4b7-ef3eef338d44"
      },
      "execution_count": null
    },
    {
      "cell_type": "code",
      "source": [],
      "outputs": [],
      "metadata": {
        "id": "YW5dNdjtdYsP"
      },
      "execution_count": null
    }
  ]
}